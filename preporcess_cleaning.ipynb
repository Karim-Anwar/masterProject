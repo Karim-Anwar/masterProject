{
  "nbformat": 4,
  "nbformat_minor": 0,
  "metadata": {
    "colab": {
      "provenance": [],
      "authorship_tag": "ABX9TyM4518c+KOgeUjEMUK+Czyj",
      "include_colab_link": true
    },
    "kernelspec": {
      "name": "python3",
      "display_name": "Python 3"
    },
    "language_info": {
      "name": "python"
    }
  },
  "cells": [
    {
      "cell_type": "markdown",
      "metadata": {
        "id": "view-in-github",
        "colab_type": "text"
      },
      "source": [
        "<a href=\"https://colab.research.google.com/github/Karim-Anwar/masterProject/blob/main/preporcess_cleaning.ipynb\" target=\"_parent\"><img src=\"https://colab.research.google.com/assets/colab-badge.svg\" alt=\"Open In Colab\"/></a>"
      ]
    },
    {
      "cell_type": "code",
      "execution_count": 1,
      "metadata": {
        "colab": {
          "base_uri": "https://localhost:8080/"
        },
        "id": "ChRNNwNOeO8-",
        "outputId": "12d3d9cb-11df-4e87-b4f9-9f7429253e87"
      },
      "outputs": [
        {
          "output_type": "stream",
          "name": "stdout",
          "text": [
            "Mounted at /content/drive\n"
          ]
        }
      ],
      "source": [
        "from google.colab import drive\n",
        "drive.mount('/content/drive')"
      ]
    },
    {
      "cell_type": "code",
      "execution_count": 2,
      "metadata": {
        "id": "R6GZPjJTbHyr"
      },
      "outputs": [],
      "source": [
        "# Imports\n",
        "import os\n",
        "import numpy as np\n",
        "import pandas as pd\n",
        "import matplotlib.pyplot as plt\n",
        "import datetime as dt\n",
        "import scipy\n",
        "import datetime"
      ]
    },
    {
      "cell_type": "code",
      "execution_count": null,
      "metadata": {
        "id": "5qaxxwTL_ZpP"
      },
      "outputs": [],
      "source": [
        "from statsmodels.tsa.stattools import adfuller"
      ]
    },
    {
      "cell_type": "code",
      "execution_count": null,
      "metadata": {
        "id": "1t_v0N4mhrwC"
      },
      "outputs": [],
      "source": [
        "# Autocorrelation\n",
        "from statsmodels.graphics.tsaplots import plot_acf\n",
        "# Partial Autocorrelation\n",
        "from statsmodels.graphics.tsaplots import plot_pacf"
      ]
    },
    {
      "cell_type": "code",
      "execution_count": null,
      "metadata": {
        "id": "aSy9Y5Y1Xqpi"
      },
      "outputs": [],
      "source": [
        "import seaborn as sns"
      ]
    },
    {
      "cell_type": "code",
      "execution_count": null,
      "metadata": {
        "id": "vkI6OSIHRxza"
      },
      "outputs": [],
      "source": [
        "from statsmodels.tsa.stattools import ccf"
      ]
    },
    {
      "cell_type": "code",
      "source": [
        "import os\n",
        "import re"
      ],
      "metadata": {
        "id": "EVaWGwNU2YG7"
      },
      "execution_count": 3,
      "outputs": []
    },
    {
      "cell_type": "code",
      "source": [
        "def read_csv_files_from_directories(root_directory):\n",
        "    directories = []\n",
        "    for root, dirs, files in os.walk(root_directory):\n",
        "        for file in files:\n",
        "            if file.endswith('.csv'):\n",
        "                directories.append(root)\n",
        "                break\n",
        "    return directories"
      ],
      "metadata": {
        "id": "GyE66OZ-27bX"
      },
      "execution_count": null,
      "outputs": []
    },
    {
      "cell_type": "code",
      "source": [
        "# def extract_numbers_from_csv_names(root_directory):\n",
        "#     numbers = []\n",
        "#     pattern = r'TL(\\d+)\\.csv'\n",
        "\n",
        "#     for dirpath, dirnames, filenames in os.walk(root_directory):\n",
        "#       # if dirpath == root_directory:\n",
        "#       # # Skip the root directory\n",
        "#       #   continue\n",
        "#       for file_name in filenames:\n",
        "#           if file_name.endswith('.csv'):\n",
        "#               match = re.search(pattern, file_name)\n",
        "#               if match:\n",
        "#                   extracted_number = match.group(1)\n",
        "#                   numbers.append(int(extracted_number))\n",
        "    \n",
        "#     return numbers"
      ],
      "metadata": {
        "id": "o08qslW7408r"
      },
      "execution_count": null,
      "outputs": []
    },
    {
      "cell_type": "code",
      "source": [
        "def extract_numbers_from_csv_names(file_name):\n",
        "    numbers = []\n",
        "    pattern = r'TL(\\d+)\\.csv'\n",
        "    \n",
        "    match = re.search(pattern, file_name)\n",
        "    if match:\n",
        "        extracted_number = match.group(1)\n",
        "        numbers.append(int(extracted_number))\n",
        "    \n",
        "    return numbers"
      ],
      "metadata": {
        "id": "_hBVRXHx1qh6"
      },
      "execution_count": null,
      "outputs": []
    },
    {
      "cell_type": "code",
      "source": [
        "def extract_direction_from_subdirectories(root_directory):\n",
        "    directions = []\n",
        "    pattern = r'.*([ENSW])$'\n",
        "\n",
        "    for dirpath, dirnames, filenames in os.walk(root_directory):\n",
        "        for dirname in dirnames:\n",
        "            match = re.search(pattern, dirname)\n",
        "            if match:\n",
        "                extracted_direction = match.group(1)\n",
        "                directions.append(extracted_direction)\n",
        "\n",
        "    return directions"
      ],
      "metadata": {
        "id": "-GXQS0GXDHIy"
      },
      "execution_count": null,
      "outputs": []
    },
    {
      "cell_type": "code",
      "source": [
        "def get_fill_method(number):\n",
        "    if number < 10:\n",
        "        return 'ffill'  # Fill forward\n",
        "    elif number % 10 == 1:\n",
        "        return 'backfill'  # Backward fill\n",
        "    elif number % 10 == 2:\n",
        "        return 'interpolate'  # Linear interpolation\n",
        "    else:\n",
        "        return None"
      ],
      "metadata": {
        "id": "IVzzEDKs8fs7"
      },
      "execution_count": null,
      "outputs": []
    },
    {
      "cell_type": "code",
      "source": [
        "def read_and_resample_csv_files(directory, start_index=None, end_index=None):\n",
        "    dataframes = []\n",
        "    file_names = os.listdir(directory)\n",
        "\n",
        "\n",
        "    for file_name in file_names:\n",
        "      if file_name.endswith('.csv'):\n",
        "          file_path = os.path.join(directory, file_name)\n",
        "          \n",
        "          df = pd.read_csv(file_path)\n",
        "          fill_method = get_fill_method(extract_numbers_from_csv_names(file_name)[0])\n",
        "          \n",
        "          if fill_method is None:\n",
        "            return None\n",
        "          elif fill_method == 'linear':\n",
        "            return None\n",
        "\n",
        "          df.columns = ['seq', 'time', 'value']\n",
        "\n",
        "          # Drop the 'seq' column\n",
        "          if 'seq' in df.columns:\n",
        "              df.drop('seq', axis=1, inplace=True)\n",
        "          \n",
        "          df['time'] = pd.to_datetime(df['time'])\n",
        "          df.set_index('time', inplace=True)\n",
        "          \n",
        "          df = df.loc[~df.index.duplicated(keep='first')]\n",
        "          \n",
        "          # Sort the index in ascending order\n",
        "          df.sort_index(inplace=True)\n",
        "\n",
        "\n",
        "          if fill_method == 'interpolate':\n",
        "            resampled_df = df.asfreq('1S').interpolate(method='linear')\n",
        "          else:\n",
        "            resampled_df = df.asfreq('1S', method=fill_method)\n",
        "\n",
        "          \n",
        "          if start_index is not None and end_index is not None:\n",
        "              resampled_df = resampled_df.loc[start_index:end_index]\n",
        "            \n",
        "      dataframes.append(resampled_df)\n",
        "            \n",
        "    if dataframes:\n",
        "      merged_df = pd.concat(dataframes, axis=1)\n",
        "\n",
        "      merged_df.columns = ['pir', 'shade', 'alight'] # Rename columns based on the number\n",
        "      return merged_df\n",
        "    \n",
        "    return None"
      ],
      "metadata": {
        "id": "iq7O_-ncE-zc"
      },
      "execution_count": null,
      "outputs": []
    },
    {
      "cell_type": "code",
      "source": [
        "root_directory = '/content/drive/MyDrive/exploratory-data-analysis/data/'\n",
        "output_directory = '/content/drive/MyDrive/exploratory-data-analysis/cleaned_data'\n",
        "# Step 1: Read CSV files from multiple directories\n",
        "directories = read_csv_files_from_directories(root_directory)[1:]\n",
        "\n",
        "# Step 2: Read and merge CSV files from the same directory\n",
        "merged_dataframes = []\n",
        "for directory in directories:\n",
        "    merged_df = read_and_resample_csv_files(directory, start_index='2023-03-22 00:20:00', end_index='2023-05-19 12:10:00')\n",
        "    if merged_df is not None:\n",
        "        merged_dataframes.append(merged_df)\n",
        "\n",
        "for i, df in enumerate(merged_dataframes):\n",
        "    original_directory = directories[i]\n",
        "    directory_name = os.path.basename(original_directory)\n",
        "    file_name = f'{directory_name}.csv'\n",
        "    file_path = os.path.join(output_directory, file_name)\n",
        "    df.to_csv(file_path, index=True)"
      ],
      "metadata": {
        "id": "U83J6MGeb49x"
      },
      "execution_count": null,
      "outputs": []
    },
    {
      "cell_type": "code",
      "source": [
        "merged_dataframes"
      ],
      "metadata": {
        "id": "67iFh8VcLxar"
      },
      "execution_count": null,
      "outputs": []
    },
    {
      "cell_type": "code",
      "source": [
        "# Directory paths\n",
        "resampled_directory = '/content/drive/MyDrive/exploratory-data-analysis/data'\n",
        "second_directory = '/content/drive/MyDrive/exploratory-data-analysis/cleaned_data_not'\n",
        "output_directory = '/content/drive/MyDrive/exploratory-data-analysis/cleaned_data'\n",
        "\n",
        "\n",
        "# Perform resampling and interpolation\n",
        "start_index = '2023-03-22 00:20:00'\n",
        "end_index = '2023-05-19 12:10:00'\n",
        "\n",
        "\n",
        "# Read and resample the North, East, South, and West CSVs\n",
        "def resample_csv(csv_path):\n",
        "    df = pd.read_csv(csv_path, parse_dates=['time'], index_col='time', names=['seq', 'time', 'value'])\n",
        "    df = df.drop(['seq'], axis=1)\n",
        "\n",
        "    # Drop duplicate timestamps\n",
        "    df = df.loc[~df.index.duplicated(keep='first')]\n",
        "    # Sort the index in ascending order\n",
        "    df.sort_index(inplace=True)\n",
        "    \n",
        "    # Resample and interpolate\n",
        "    df = df.asfreq('1S').interpolate(method='linear').loc[start_index:end_index]\n",
        "    return df\n",
        "\n",
        "north_df = resample_csv(os.path.join(resampled_directory, 'North.csv'))\n",
        "east_df = resample_csv(os.path.join(resampled_directory, 'East.csv'))\n",
        "south_df = resample_csv(os.path.join(resampled_directory, 'South.csv'))\n",
        "west_df = resample_csv(os.path.join(resampled_directory, 'West.csv'))\n",
        "\n",
        "# Create a dictionary mapping direction to dataframe\n",
        "direction_mapping = {'N': north_df, 'E': east_df, 'S': south_df, 'W': west_df}\n",
        "\n",
        "# Iterate over the second directory CSVs\n",
        "for file_name in os.listdir(second_directory):\n",
        "    if file_name.endswith('.csv'):\n",
        "        # Extract the direction from the file name\n",
        "        direction = file_name.split('_')[-1][0]\n",
        "        \n",
        "         # Read the CSV file and set the 'time' column as index\n",
        "        second_df = pd.read_csv(os.path.join(second_directory, file_name), parse_dates=['time'], index_col='time')\n",
        "        \n",
        "        # Merge with the corresponding resampled dataframe\n",
        "        if direction in direction_mapping:\n",
        "            merged_df =pd.merge(second_df, direction_mapping[direction], left_index=True, right_index=True)\n",
        "\n",
        "            # Save the merged dataframe with the original filename\n",
        "            output_filename = os.path.join(output_directory, os.path.splitext(file_name)[0] + '.csv')\n",
        "            merged_df.to_csv(output_filename, index=True, index_label='time')  # Set index=True to include the 'time' index"
      ],
      "metadata": {
        "id": "SKP2dZMlkTUu"
      },
      "execution_count": 49,
      "outputs": []
    }
  ]
}