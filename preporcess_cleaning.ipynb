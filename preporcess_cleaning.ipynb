{
  "nbformat": 4,
  "nbformat_minor": 0,
  "metadata": {
    "colab": {
      "provenance": [],
      "authorship_tag": "ABX9TyNKoJcBlp4JlT5s4ko7sQLv",
      "include_colab_link": true
    },
    "kernelspec": {
      "name": "python3",
      "display_name": "Python 3"
    },
    "language_info": {
      "name": "python"
    }
  },
  "cells": [
    {
      "cell_type": "markdown",
      "metadata": {
        "id": "view-in-github",
        "colab_type": "text"
      },
      "source": [
        "<a href=\"https://colab.research.google.com/github/Karim-Anwar/masterProject/blob/main/preporcess_cleaning.ipynb\" target=\"_parent\"><img src=\"https://colab.research.google.com/assets/colab-badge.svg\" alt=\"Open In Colab\"/></a>"
      ]
    },
    {
      "cell_type": "code",
      "execution_count": 1,
      "metadata": {
        "colab": {
          "base_uri": "https://localhost:8080/"
        },
        "id": "ChRNNwNOeO8-",
        "outputId": "a783c709-d2a3-409c-c693-64ee637e4d54"
      },
      "outputs": [
        {
          "output_type": "stream",
          "name": "stdout",
          "text": [
            "Drive already mounted at /content/drive; to attempt to forcibly remount, call drive.mount(\"/content/drive\", force_remount=True).\n"
          ]
        }
      ],
      "source": [
        "from google.colab import drive\n",
        "drive.mount('/content/drive')"
      ]
    },
    {
      "cell_type": "code",
      "execution_count": 2,
      "metadata": {
        "id": "R6GZPjJTbHyr"
      },
      "outputs": [],
      "source": [
        "# Imports\n",
        "import os\n",
        "import numpy as np\n",
        "import pandas as pd\n",
        "import matplotlib.pyplot as plt\n",
        "import datetime as dt\n",
        "import scipy\n",
        "import datetime"
      ]
    },
    {
      "cell_type": "code",
      "execution_count": 3,
      "metadata": {
        "id": "5qaxxwTL_ZpP"
      },
      "outputs": [],
      "source": [
        "from statsmodels.tsa.stattools import adfuller"
      ]
    },
    {
      "cell_type": "code",
      "execution_count": 4,
      "metadata": {
        "id": "1t_v0N4mhrwC"
      },
      "outputs": [],
      "source": [
        "# Autocorrelation\n",
        "from statsmodels.graphics.tsaplots import plot_acf\n",
        "# Partial Autocorrelation\n",
        "from statsmodels.graphics.tsaplots import plot_pacf"
      ]
    },
    {
      "cell_type": "code",
      "execution_count": 5,
      "metadata": {
        "id": "aSy9Y5Y1Xqpi"
      },
      "outputs": [],
      "source": [
        "import seaborn as sns"
      ]
    },
    {
      "cell_type": "code",
      "execution_count": 6,
      "metadata": {
        "id": "vkI6OSIHRxza"
      },
      "outputs": [],
      "source": [
        "from statsmodels.tsa.stattools import ccf"
      ]
    },
    {
      "cell_type": "code",
      "source": [
        "import os\n",
        "import re"
      ],
      "metadata": {
        "id": "EVaWGwNU2YG7"
      },
      "execution_count": 7,
      "outputs": []
    },
    {
      "cell_type": "code",
      "source": [
        "def read_csv_files_from_directories(root_directory):\n",
        "    directories = []\n",
        "    for root, dirs, files in os.walk(root_directory):\n",
        "        for file in files:\n",
        "            if file.endswith('.csv'):\n",
        "                directories.append(root)\n",
        "                break\n",
        "    return directories"
      ],
      "metadata": {
        "id": "GyE66OZ-27bX"
      },
      "execution_count": 8,
      "outputs": []
    },
    {
      "cell_type": "code",
      "source": [
        "# def extract_numbers_from_csv_names(root_directory):\n",
        "#     numbers = []\n",
        "#     pattern = r'TL(\\d+)\\.csv'\n",
        "\n",
        "#     for dirpath, dirnames, filenames in os.walk(root_directory):\n",
        "#       # if dirpath == root_directory:\n",
        "#       # # Skip the root directory\n",
        "#       #   continue\n",
        "#       for file_name in filenames:\n",
        "#           if file_name.endswith('.csv'):\n",
        "#               match = re.search(pattern, file_name)\n",
        "#               if match:\n",
        "#                   extracted_number = match.group(1)\n",
        "#                   numbers.append(int(extracted_number))\n",
        "    \n",
        "#     return numbers"
      ],
      "metadata": {
        "id": "o08qslW7408r"
      },
      "execution_count": 9,
      "outputs": []
    },
    {
      "cell_type": "code",
      "source": [
        "def extract_numbers_from_csv_names(file_name):\n",
        "    numbers = []\n",
        "    pattern = r'TL(\\d+)\\.csv'\n",
        "    \n",
        "    match = re.search(pattern, file_name)\n",
        "    if match:\n",
        "        extracted_number = match.group(1)\n",
        "        numbers.append(int(extracted_number))\n",
        "    \n",
        "    return numbers"
      ],
      "metadata": {
        "id": "_hBVRXHx1qh6"
      },
      "execution_count": 10,
      "outputs": []
    },
    {
      "cell_type": "code",
      "source": [
        "def extract_direction_from_subdirectories(root_directory):\n",
        "    directions = []\n",
        "    pattern = r'.*([ENSW])$'\n",
        "\n",
        "    for dirpath, dirnames, filenames in os.walk(root_directory):\n",
        "        for dirname in dirnames:\n",
        "            match = re.search(pattern, dirname)\n",
        "            if match:\n",
        "                extracted_direction = match.group(1)\n",
        "                directions.append(extracted_direction)\n",
        "\n",
        "    return directions"
      ],
      "metadata": {
        "id": "-GXQS0GXDHIy"
      },
      "execution_count": 11,
      "outputs": []
    },
    {
      "cell_type": "code",
      "source": [
        "def get_fill_method(number):\n",
        "    if number < 10:\n",
        "        return 'ffill'  # Fill forward\n",
        "    elif number % 10 == 1:\n",
        "        return 'backfill'  # Backward fill\n",
        "    elif number % 10 == 2:\n",
        "        return 'interpolate'  # Linear interpolation\n",
        "    else:\n",
        "        return None"
      ],
      "metadata": {
        "id": "IVzzEDKs8fs7"
      },
      "execution_count": 12,
      "outputs": []
    },
    {
      "cell_type": "code",
      "source": [
        "def read_and_resample_csv_files(directory, start_index=None, end_index=None):\n",
        "    dataframes = []\n",
        "    file_names = os.listdir(directory)\n",
        "\n",
        "\n",
        "    for file_name in file_names:\n",
        "      if file_name.endswith('.csv'):\n",
        "          file_path = os.path.join(directory, file_name)\n",
        "          \n",
        "          df = pd.read_csv(file_path)\n",
        "          fill_method = get_fill_method(extract_numbers_from_csv_names(file_name)[0])\n",
        "          \n",
        "          if fill_method is None:\n",
        "            return None\n",
        "          elif fill_method == 'linear':\n",
        "            return None\n",
        "\n",
        "          df.columns = ['seq', 'time', 'value']\n",
        "\n",
        "          # Drop the 'seq' column\n",
        "          if 'seq' in df.columns:\n",
        "              df.drop('seq', axis=1, inplace=True)\n",
        "          \n",
        "          df['time'] = pd.to_datetime(df['time'])\n",
        "          df.set_index('time', inplace=True)\n",
        "          # Check for duplicate indices and keep the first occurrence\n",
        "          df = df.loc[~df.index.duplicated(keep='first')]\n",
        "          \n",
        "          # Sort the index in ascending order\n",
        "          df.sort_index(inplace=True)\n",
        "\n",
        "\n",
        "          if fill_method == 'interpolate':\n",
        "            resampled_df = df.asfreq('1S').interpolate(method='linear')\n",
        "          else:\n",
        "            resampled_df = df.asfreq('1S', method=fill_method)\n",
        "\n",
        "          \n",
        "          if start_index is not None and end_index is not None:\n",
        "              resampled_df = resampled_df.loc[start_index:end_index]\n",
        "            \n",
        "      dataframes.append(resampled_df)\n",
        "            \n",
        "    if dataframes:\n",
        "      merged_df = pd.concat(dataframes, axis=1)\n",
        "\n",
        "      merged_df.columns = ['pir', 'shade', 'alight'] # Rename columns based on the number\n",
        "      return merged_df\n",
        "    \n",
        "    return None"
      ],
      "metadata": {
        "id": "iq7O_-ncE-zc"
      },
      "execution_count": 13,
      "outputs": []
    },
    {
      "cell_type": "code",
      "source": [
        "root_directory = '/content/drive/MyDrive/exploratory-data-analysis/data/'\n",
        "output_directory = '/content/drive/MyDrive/exploratory-data-analysis/cleaned_data'\n",
        "# Step 1: Read CSV files from multiple directories\n",
        "directories = read_csv_files_from_directories(root_directory)[1:]\n",
        "\n",
        "# Step 2: Read and merge CSV files from the same directory\n",
        "merged_dataframes = []\n",
        "for directory in directories:\n",
        "    merged_df = read_and_resample_csv_files(directory, start_index='2023-03-22 00:20:00', end_index='2023-05-19 12:10:00')\n",
        "    if merged_df is not None:\n",
        "        merged_dataframes.append(merged_df)\n",
        "\n",
        "for i, df in enumerate(merged_dataframes):\n",
        "    original_directory = directories[i]\n",
        "    directory_name = os.path.basename(original_directory)\n",
        "    file_name = f'{directory_name}.csv'\n",
        "    file_path = os.path.join(output_directory, file_name)\n",
        "    df.to_csv(file_path, index=True)"
      ],
      "metadata": {
        "id": "U83J6MGeb49x"
      },
      "execution_count": 14,
      "outputs": []
    },
    {
      "cell_type": "code",
      "source": [
        "merged_dataframes"
      ],
      "metadata": {
        "id": "67iFh8VcLxar"
      },
      "execution_count": null,
      "outputs": []
    }
  ]
}